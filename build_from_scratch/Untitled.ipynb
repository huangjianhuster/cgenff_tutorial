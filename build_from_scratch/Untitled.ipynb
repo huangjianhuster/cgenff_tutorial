{
 "cells": [
  {
   "cell_type": "code",
   "execution_count": 3,
   "id": "b5e17680-15ed-4654-abc9-d477c81320f1",
   "metadata": {},
   "outputs": [
    {
     "name": "stdout",
     "output_type": "stream",
     "text": [
      "﻿@<TRIPOS>MOLECULE\n",
      "*****\n",
      " 16 17 0 0 0\n",
      "SMALL\n",
      "GASTEIGER\n",
      "\n",
      "@<TRIPOS>ATOM\n",
      "      1 C           1.3810   -0.2275    0.0605 C.ar    1  UNL1       -0.0618\n",
      "      2 C           0.4929   -1.3012    0.1274 C.ar    1  UNL1       -0.0617\n",
      "      3 C          -0.8842   -1.0743    0.0575 C.ar    1  UNL1       -0.0600\n",
      "      4 C          -1.3739    0.2297   -0.0902 C.ar    1  UNL1       -0.0317\n",
      "      5 C          -0.4781    1.3041   -0.1537 C.ar    1  UNL1       -0.0600\n",
      "      6 C           0.8975    1.0738   -0.0750 C.ar    1  UNL1       -0.0617\n",
      "      7 C          -2.8639    0.4753   -0.1862 C.ar    1  UNL1        0.0432\n",
      "      8 N          -3.8036   -0.5037   -0.1307 N.ar    1  UNL1       -0.2895\n",
      "      9 N          -4.9863    0.1450   -0.2450 N.ar    1  UNL1       -0.2180\n",
      "     10 N          -4.7595    1.4682   -0.3805 N.ar    1  UNL1       -0.2180\n",
      "     11 N          -3.4265    1.7014   -0.3429 N.ar    1  UNL1       -0.2895\n",
      "     12 H           2.4511   -0.4056    0.1140 H       1  UNL1        0.0618\n",
      "     13 H           0.8651   -2.3160    0.2321 H       1  UNL1        0.0618\n",
      "     14 H          -1.5748   -1.9129    0.1138 H       1  UNL1        0.0618\n",
      "     15 H          -0.8518    2.3198   -0.2653 H       1  UNL1        0.0618\n",
      "     16 H           1.5863    1.9126   -0.1233 H       1  UNL1        0.0618\n",
      "@<TRIPOS>UNITY_ATOM_ATTR\n",
      "11 1\n",
      "charge -1\n",
      "@<TRIPOS>BOND\n",
      "     1     1     2   ar\n",
      "     2     2     3   ar\n",
      "     3     3     4   ar\n",
      "     4     4     5   ar\n",
      "     5     5     6   ar\n",
      "     6     1     6   ar\n",
      "     7     4     7    1\n",
      "     8     7     8   ar\n",
      "     9     8     9   ar\n",
      "    10     9    10   ar\n",
      "    11    10    11   ar\n",
      "    12     7    11   ar\n",
      "    13     1    12    1\n",
      "    14     2    13    1\n",
      "    15     3    14    1\n",
      "    16     5    15    1\n",
      "    17     6    16    1\n"
     ]
    }
   ],
   "source": [
    "mol2 = \"./structure.mol2\"\n",
    "%cat $mol2"
   ]
  },
  {
   "cell_type": "code",
   "execution_count": null,
   "id": "12c3ee9c-0227-4a46-96d0-c10b5a7c464d",
   "metadata": {},
   "outputs": [],
   "source": []
  }
 ],
 "metadata": {
  "kernelspec": {
   "display_name": "Python 3 (ipykernel)",
   "language": "python",
   "name": "python3"
  },
  "language_info": {
   "codemirror_mode": {
    "name": "ipython",
    "version": 3
   },
   "file_extension": ".py",
   "mimetype": "text/x-python",
   "name": "python",
   "nbconvert_exporter": "python",
   "pygments_lexer": "ipython3",
   "version": "3.8.16"
  }
 },
 "nbformat": 4,
 "nbformat_minor": 5
}
